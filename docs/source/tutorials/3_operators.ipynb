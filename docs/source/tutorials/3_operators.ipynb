{
 "cells": [
  {
   "cell_type": "markdown",
   "metadata": {},
   "source": [
    "# Tutorial 3: Operators"
   ]
  },
  {
   "cell_type": "code",
   "execution_count": 1,
   "metadata": {},
   "outputs": [],
   "source": [
    "import matplotlib.pyplot as plt\n",
    "import torch\n",
    "from spectpsftoolbox.operator2d import GaussianOperator, Kernel2DOperator\n",
    "from spectpsftoolbox.kernel2d import NGonKernel2D\n",
    "from spectpsftoolbox.utils import get_kernel_meshgrid\n",
    "device = torch.device(\"cuda:0\" if torch.cuda.is_available() else \"cpu\")"
   ]
  },
  {
   "cell_type": "markdown",
   "metadata": {},
   "source": [
    "# Operator Intro"
   ]
  },
  {
   "cell_type": "markdown",
   "metadata": {},
   "source": [
    "Operators in `spectpsftoolbox` are used to convolve kernels with various inputs. Let's start by recreating the ngon kernel we made in tutorial 2"
   ]
  },
  {
   "cell_type": "code",
   "execution_count": 2,
   "metadata": {},
   "outputs": [],
   "source": [
    "collimator_length = 2.405 \n",
    "collimator_width = 0.254 #flat side to flat side\n",
    "sigma_fn = lambda a, bs: (bs[0]+a) / bs[0] \n",
    "sigma_params = torch.tensor([collimator_length], requires_grad=True, dtype=torch.float32, device=device)\n",
    "# Set amplitude to 1\n",
    "amplitude_fn = lambda a, bs: torch.ones_like(a)\n",
    "amplitude_params = torch.tensor([1.], requires_grad=True, dtype=torch.float32, device=device)\n",
    "\n",
    "ngon_kernel = NGonKernel2D(\n",
    "    N_sides = 6, # sides of polygon\n",
    "    Nx = 255, # resolution to make polygon before grid sampling\n",
    "    collimator_width=collimator_width, # width of polygon\n",
    "    amplitude_fn=amplitude_fn,\n",
    "    sigma_fn=sigma_fn,\n",
    "    amplitude_params=amplitude_params,\n",
    "    sigma_params=sigma_params,\n",
    "    rot=90\n",
    ")"
   ]
  },
  {
   "cell_type": "markdown",
   "metadata": {},
   "source": [
    "Note that this operator takes in `xv`, `yv`, and `a` and returns the correpsonding kernel:"
   ]
  },
  {
   "cell_type": "code",
   "execution_count": 3,
   "metadata": {},
   "outputs": [],
   "source": [
    "Nx0 = 255\n",
    "dx0 = 0.048\n",
    "x = y = torch.arange(-(Nx0-1)/2, (Nx0+1)/2, 1).to(device) * dx0\n",
    "xv, yv = torch.meshgrid(x, y, indexing='xy')\n",
    "distances = torch.tensor([1,5,10,15,20,25], dtype=torch.float32, device=device)\n",
    "kernel = ngon_kernel(xv, yv, distances, normalize=True).cpu().detach()"
   ]
  },
  {
   "cell_type": "markdown",
   "metadata": {},
   "source": [
    "Operators can be constructed using kernels. For example, we can create an operator using a 2D kernel as followS:"
   ]
  },
  {
   "cell_type": "code",
   "execution_count": 4,
   "metadata": {},
   "outputs": [],
   "source": [
    "ngon_operator = Kernel2DOperator(ngon_kernel)"
   ]
  },
  {
   "cell_type": "markdown",
   "metadata": {},
   "source": [
    "Operators apply convolution with the kernel to some input `input`. \n",
    "\n",
    "* We'll create an input of shape (12,255,255) corresponding to 12 different `a` positions. The input will consist of two squares in each plane. We'll see convolution with the `ngon` kernel in each plane"
   ]
  },
  {
   "cell_type": "code",
   "execution_count": 5,
   "metadata": {},
   "outputs": [],
   "source": [
    "Nx0 = 255\n",
    "dx0 = 0.48\n",
    "x = y = torch.arange(-(Nx0-1)/2, (Nx0+1)/2, 1).to(device) * dx0\n",
    "xv, yv = torch.meshgrid(x, y, indexing='xy')\n",
    "distances = torch.tensor([1,25,40,55.]).to(device)\n",
    "input = torch.zeros((distances.shape[0],Nx0,Nx0)).to(device)\n",
    "input[:,120:130,120:130] = 1\n",
    "input[:,120:130,170:180] = 1"
   ]
  },
  {
   "cell_type": "markdown",
   "metadata": {},
   "source": [
    "The meshgrid `xv` and `yv`above correspond to the dimensions of the input. Typically, the kernel need not be as large as the input. We can manually define the meshgrid of the kernel `xv_k` `yv_k` or use built in functions to obtain them if we know the spatial extent of the kernel. **The thing you need to enforce is (i) The dimensions of `xv_k` should be odd and (ii) that the spacing in `xv` and `xv_k` is the same**"
   ]
  },
  {
   "cell_type": "code",
   "execution_count": 6,
   "metadata": {},
   "outputs": [],
   "source": [
    "k_width = 24 #cm, need to manually determine this\n",
    "# Automatically makes (i) same spacing as xv and (ii) odd kernel size\n",
    "xv_k, yv_k = get_kernel_meshgrid(xv, yv, k_width)"
   ]
  },
  {
   "cell_type": "markdown",
   "metadata": {},
   "source": [
    "Now we can use our operator on the input. Again, note that `xv_k` and `yv_k` refer to the kernel used and not the input."
   ]
  },
  {
   "cell_type": "code",
   "execution_count": 7,
   "metadata": {},
   "outputs": [],
   "source": [
    "ngon_output = ngon_operator(input, xv_k, yv_k, distances, normalize=True)"
   ]
  },
  {
   "cell_type": "code",
   "execution_count": 8,
   "metadata": {},
   "outputs": [
    {
     "data": {
      "image/png": "[encoded data removed]",
      "text/plain": [
       "<Figure size 1000x600 with 8 Axes>"
      ]
     },
     "metadata": {},
     "output_type": "display_data"
    }
   ],
   "source": [
    "fig, ax = plt.subplots(2,4,figsize=(10,6))\n",
    "for i in range(4):\n",
    "    ax[0,i].imshow(input[i].cpu().detach().numpy(), cmap='magma')\n",
    "    ax[1,i].imshow(ngon_output[i].cpu().detach().numpy(), cmap='magma')\n",
    "    ax[0,i].set_title(f\"Distance {distances[i]} cm\")\n",
    "[a.axis('off') for a in ax.ravel()]\n",
    "fig.tight_layout()"
   ]
  },
  {
   "cell_type": "markdown",
   "metadata": {},
   "source": [
    "# Chaining Operators"
   ]
  },
  {
   "cell_type": "markdown",
   "metadata": {},
   "source": [
    "It is possible to chain operators in `spectpsftoolbox`. For example, in SPECT acquisition, the component above models the PSF component from the collimator structure only, but there is also an PSF component resulting from uncertainty in position when detected in the scintillator. The PSF is best modeled as\n",
    "\n",
    "$$PSF_{tot}[x] = PSF_{scint}[PSF_{coll}[x]] $$\n",
    "\n",
    "$PSF_{scint}$ is best modeled using a Gaussian function with width equal to the intrinsic resolution of the scintillator crystal. We can define the operator as:"
   ]
  },
  {
   "cell_type": "code",
   "execution_count": 9,
   "metadata": {},
   "outputs": [
    {
     "name": "stderr",
     "output_type": "stream",
     "text": [
      "/data/anaconda/envs/pytomo_install_test/lib/python3.11/site-packages/torch/functional.py:504: UserWarning: torch.meshgrid: in an upcoming release, it will be required to pass the indexing argument. (Triggered internally at ../aten/src/ATen/native/TensorShape.cpp:3526.)\n",
      "  return _VF.meshgrid(tensors, **kwargs)  # type: ignore[attr-defined]\n",
      "/data/anaconda/envs/pytomo_install_test/lib/python3.11/site-packages/torchquad/integration/utils.py:255: UserWarning: DEPRECATION WARNING: In future versions of torchquad, an array-like object will be returned.\n",
      "  warnings.warn(\n"
     ]
    }
   ],
   "source": [
    "intrinsic_sigma = 0.1614 # typical for NaI 140keV detection\n",
    "gauss_amplitude_fn = lambda a, bs: torch.ones_like(a)\n",
    "gauss_sigma_fn = lambda a, bs: bs[0]*torch.ones_like(a)\n",
    "gauss_amplitude_params = torch.tensor([1.], requires_grad=True, dtype=torch.float32, device=device)\n",
    "gauss_sigma_params = torch.tensor([intrinsic_sigma], requires_grad=True, device=device, dtype=torch.float32)\n",
    "scint_operator = GaussianOperator(\n",
    "    gauss_amplitude_fn,\n",
    "    gauss_sigma_fn,\n",
    "    gauss_amplitude_params,\n",
    "    gauss_sigma_params,\n",
    ")"
   ]
  },
  {
   "cell_type": "markdown",
   "metadata": {},
   "source": [
    "We could use this operator directly on the input:"
   ]
  },
  {
   "cell_type": "code",
   "execution_count": 10,
   "metadata": {},
   "outputs": [],
   "source": [
    "output_tot = scint_operator(ngon_output, xv_k, yv_k, distances, normalize=True)"
   ]
  },
  {
   "cell_type": "markdown",
   "metadata": {},
   "source": [
    "OR we can chain together the operators to get a single operator. We can use the `*` operator to make an operator that first applies the operator on the right, then the operator on the left:"
   ]
  },
  {
   "cell_type": "code",
   "execution_count": 11,
   "metadata": {},
   "outputs": [],
   "source": [
    "spect_psf_operator = scint_operator * ngon_operator\n",
    "# Now apply directly to inpuy\n",
    "output_tot = spect_psf_operator(input, xv_k, yv_k, distances, normalize=True)"
   ]
  },
  {
   "cell_type": "code",
   "execution_count": 12,
   "metadata": {},
   "outputs": [
    {
     "data": {
      "image/png": "[encoded data removed]",
      "text/plain": [
       "<Figure size 1000x600 with 8 Axes>"
      ]
     },
     "metadata": {},
     "output_type": "display_data"
    }
   ],
   "source": [
    "fig, ax = plt.subplots(2,4,figsize=(10,6))\n",
    "for i in range(4):\n",
    "    ax[0,i].imshow(input[i].cpu().detach().numpy(), cmap='magma')\n",
    "    ax[1,i].imshow(output_tot[i].cpu().detach().numpy(), cmap='magma')\n",
    "    ax[0,i].set_title(f\"Distance {distances[i]} cm\")\n",
    "[a.axis('off') for a in ax.ravel()]\n",
    "fig.tight_layout()"
   ]
  },
  {
   "cell_type": "markdown",
   "metadata": {},
   "source": [
    "In general, we can combine operators together in complicated ways"
   ]
  },
  {
   "cell_type": "code",
   "execution_count": 13,
   "metadata": {},
   "outputs": [],
   "source": [
    "combined_operator = (ngon_operator + scint_operator) * ngon_operator + scint_operator\n",
    "\n",
    "output_weird= spect_psf_operator(input, xv_k, yv_k, distances, normalize=True)"
   ]
  },
  {
   "cell_type": "markdown",
   "metadata": {},
   "source": [
    "Let's check normalization. Since there were 2 squares each with $10 \\times 10 $ pixels of magnitude 1, the blurred image should sum to 200 at each plane:"
   ]
  },
  {
   "cell_type": "code",
   "execution_count": 14,
   "metadata": {},
   "outputs": [
    {
     "data": {
      "text/plain": [
       "tensor([200.0000, 200.0001, 200.0000, 200.0000], device='cuda:0',\n",
       "       grad_fn=<SumBackward1>)"
      ]
     },
     "execution_count": 14,
     "metadata": {},
     "output_type": "execute_result"
    }
   ],
   "source": [
    "output_weird.sum(dim=(1,2))"
   ]
  },
  {
   "cell_type": "markdown",
   "metadata": {},
   "source": [
    "* Normalization is carefully tracked for combined operators"
   ]
  }
 ],
 "metadata": {
  "kernelspec": {
   "display_name": "python39_pytomo",
   "language": "python",
   "name": "python3"
  },
  "language_info": {
   "codemirror_mode": {
    "name": "ipython",
    "version": 3
   },
   "file_extension": ".py",
   "mimetype": "text/x-python",
   "name": "python",
   "nbconvert_exporter": "python",
   "pygments_lexer": "ipython3",
   "version": "3.11.6"
  }
 },
 "nbformat": 4,
 "nbformat_minor": 2
}
